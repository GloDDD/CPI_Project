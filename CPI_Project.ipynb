 {
   "cell_type": "markdown",
   "id": "3ee37c08",
   "metadata": {},
   "source": [
    "## 4 Aggregating\n",
    "Compute your version of the CPI based on the weights in 2.3."
    "CPI in Mid Atlantic"
    "import pandas as pd"
    "df_MidA = myData[["year","period","CUUR0120SAF112","CUUR0120SAF113","CUUR0120SAF114","CUUR0120SAF116", "CUUR0120SAA", "CUUR0120SAEC","CUUR0120SAR","CUUR0120SEHA"]]
#try to make the table clean"
    "CPI in South Atlantic"
    "df_MidA = myData[["year","period","CUUR0120SAF112","CUUR0120SAF113","CUUR0120SAF114","CUUR0120SAF116", "CUUR0120SAA", "CUUR0120SAEC","CUUR0120SAR","CUUR0120SEHA"]]
#try to make the table clean"
    "CPI in East North Central"
    "df_ENC = myData[["year","period","CUUR0230SAF112","CUUR0230SAF113","CUUR0350SAF114","CUUR0230SAF116", "CUUR0230SAA", "CUUR0230SAEC","CUUR0230SAR","CUUR0230SEHA"]]
#try to make the table clean"
    
   ]
  },
